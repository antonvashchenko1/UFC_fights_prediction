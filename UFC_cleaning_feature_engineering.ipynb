{
 "cells": [
  {
   "cell_type": "markdown",
   "metadata": {},
   "source": [
    "### Data cleaning & feature engineering\n",
    "\n",
    "Tasks:\n",
    "- Clean data, especially for the old events many values are missing\n",
    "- get interpretable data types for prediction models\n",
    "- add fighter stats for each fighter\n",
    "- Fight statistics are available only after the fight, so each row must contain the cumulative statistics of all past fights of both participants and their respective opponents. Otherwise, it is not possible to make a prediction before the actual fight."
   ]
  },
  {
   "cell_type": "code",
   "execution_count": 1,
   "metadata": {},
   "outputs": [],
   "source": [
    "import pandas as pd\n",
    "import numpy as np\n",
    "from sklearn.impute import SimpleImputer"
   ]
  },
  {
   "cell_type": "code",
   "execution_count": 2,
   "metadata": {},
   "outputs": [],
   "source": [
    "# fight data\n",
    "df_fights = pd.read_csv('./data/fights.csv', delimiter=\";\")\n",
    "\n",
    "# Join fighter data to red and blue fighter\n",
    "df_fighters = pd.read_csv('./data/fighters.csv', delimiter=\";\")\n",
    "\n",
    "df_fights = pd.merge(df_fights, df_fighters, left_on=\"FIGHTER_R\", right_on=\"NAME\", how=\"left\", suffixes=(\"\",\"_R\"))\n",
    "df_fights = pd.merge(df_fights, df_fighters, left_on=\"FIGHTER_R\", right_on=\"NAME\", how=\"left\", suffixes=(\"\",\"_R\"))\n",
    "df_fights = pd.merge(df_fights, df_fighters, left_on=\"FIGHTER_B\", right_on=\"NAME\", how=\"left\", suffixes=('','_B'))\n",
    "\n",
    "df_fights = df_fights.drop(list(df_fighters.columns), axis=1)"
   ]
  },
  {
   "cell_type": "code",
   "execution_count": 3,
   "metadata": {},
   "outputs": [
    {
     "name": "stdout",
     "output_type": "stream",
     "text": [
      "ROUNDS\n",
      "1 Rnd (10)                 6\n",
      "1 Rnd (12)                 4\n",
      "1 Rnd (15)                 8\n",
      "1 Rnd (18)                 2\n",
      "1 Rnd (20)                21\n",
      "1 Rnd (30)                 1\n",
      "1 Rnd + 2OT (15-3-3)      20\n",
      "1 Rnd + 2OT (24-3-3)       1\n",
      "1 Rnd + OT (12-3)         80\n",
      "1 Rnd + OT (15-3)          2\n",
      "1 Rnd + OT (27-3)          1\n",
      "1 Rnd + OT (30-3)          1\n",
      "1 Rnd + OT (30-5)          3\n",
      "1 Rnd + OT (31-5)          1\n",
      "2 Rnd (5-5)               14\n",
      "3 Rnd (5-5-5)           6080\n",
      "3 Rnd + OT (5-5-5-5)      26\n",
      "5 Rnd (5-5-5-5-5)        597\n",
      "No Time Limit             29\n",
      "Name: WINNER, dtype: int64\n"
     ]
    }
   ],
   "source": [
    "print(df_fights.groupby([\"ROUNDS\"])[\"WINNER\"].count())"
   ]
  },
  {
   "cell_type": "code",
   "execution_count": 4,
   "metadata": {},
   "outputs": [],
   "source": [
    "# In order to keep only fights with a similar and current set of rules, events that do not go over 3 or 5 rounds will be deleted. have 3 or 5 rounds. \n",
    "df_fights = df_fights[(df_fights[\"ROUNDS\"] == \"3 Rnd (5-5-5)\") | (df_fights[\"ROUNDS\"] == \"5 Rnd (5-5-5-5-5)\")]\n",
    "\n",
    "# remove open weight fights\n",
    "df_fights = df_fights[df_fights[\"BOUT\"]!=\"Open Weight Bout\"]\n",
    "\n",
    "# replace missing time values with 00:00\n",
    "df_fights[[\"CTRL_B\", \"CTRL_R\", \"LAST_ROUND_TIME\"]] = df_fights[[\"CTRL_B\", \"CTRL_R\", \"LAST_ROUND_TIME\"]].replace('--', '00:00')"
   ]
  },
  {
   "cell_type": "code",
   "execution_count": 5,
   "metadata": {},
   "outputs": [],
   "source": [
    "# Convert Height and Reach to a usable number format\n",
    "\n",
    "# height\n",
    "df_fights[\"HEIGHT_R\"] = df_fights[\"HEIGHT_R\"].apply(lambda x: str(x).replace('\"', \"\").replace(\"' \", \".\") if x != '--' else np.nan).astype(\"float32\")\n",
    "df_fights[\"HEIGHT_B\"] = df_fights[\"HEIGHT_B\"].apply(lambda x: str(x).replace('\"', \"\").replace(\"' \", \".\") if x != '--' else np.nan).astype(\"float32\")\n",
    "\n",
    "# Reach\n",
    "df_fights[\"REACH_R\"] = df_fights[\"REACH_R\"].apply(lambda x: str(x).replace('\"', \"\") if x != '--' else np.nan).astype(\"float32\")\n",
    "df_fights[\"REACH_B\"] = df_fights[\"REACH_B\"].apply(lambda x: str(x).replace('\"', \"\") if x != '--' else np.nan).astype(\"float32\")"
   ]
  },
  {
   "cell_type": "markdown",
   "metadata": {},
   "source": [
    "### Create new features \"Title Fight\""
   ]
  },
  {
   "cell_type": "code",
   "execution_count": 6,
   "metadata": {},
   "outputs": [],
   "source": [
    "# some event formats were unique and should not be included in a predictive model \n",
    "bouts = df_fights[\"BOUT\"].value_counts() > 1\n",
    "established_bouts = df_fights['BOUT'].value_counts()[bouts].index\n",
    "df_fights = df_fights[df_fights[\"BOUT\"].apply(lambda x: True if x in established_bouts else False)]\n",
    "\n",
    "# Get a flag for each title fight\n",
    "df_fights[\"TITLE_FIGHT\"] = df_fights[\"BOUT\"].apply(lambda x: 1 if 'Title Bout' in x else 0)"
   ]
  },
  {
   "cell_type": "markdown",
   "metadata": {},
   "source": [
    "### Create new feature \"Main Event\"\n",
    "\n",
    "- the main event is the last fight of a fight night"
   ]
  },
  {
   "cell_type": "code",
   "execution_count": 7,
   "metadata": {},
   "outputs": [],
   "source": [
    "indexes_reversed = df_fights.index.tolist()\n",
    "indexes_reversed.reverse()\n",
    "\n",
    "main_event = []\n",
    "\n",
    "for i in indexes_reversed:\n",
    "    u = i-1\n",
    "    earlier_fight = df_fights.loc[i][\"ROUNDS\"]\n",
    "    try: \n",
    "        later_fight = df_fights.loc[i-1][\"ROUNDS\"]\n",
    "    except:\n",
    "        later_fight = '3 Rnd (5-5-5)'\n",
    "    if later_fight != earlier_fight and earlier_fight == '5 Rnd (5-5-5-5-5)':\n",
    "        main_event.append(1)\n",
    "    else:\n",
    "        main_event.append(0)\n",
    "\n",
    "main_event.reverse()\n",
    "df_fights['MAIN_EVENT'] = main_event"
   ]
  },
  {
   "cell_type": "markdown",
   "metadata": {},
   "source": [
    "### Transform times into float-values and add new feature \"Total Fight time\""
   ]
  },
  {
   "cell_type": "code",
   "execution_count": 8,
   "metadata": {},
   "outputs": [],
   "source": [
    "from datetime import datetime\n",
    "\n",
    "def time_to_minutes(time):\n",
    "    if time is not None:\n",
    "        clock_time = datetime.strptime(time,'%M:%S')\n",
    "        minutes = clock_time.minute + clock_time.second/60\n",
    "    else: \n",
    "        minutes = []\n",
    "    return minutes"
   ]
  },
  {
   "cell_type": "code",
   "execution_count": 9,
   "metadata": {},
   "outputs": [],
   "source": [
    "df_fights[\"CTRL_B\"] = df_fights[\"CTRL_B\"].apply(time_to_minutes)\n",
    "df_fights[\"CTRL_R\"] = df_fights[\"CTRL_R\"].apply(time_to_minutes)\n",
    "df_fights[\"LAST_ROUND_TIME\"] = df_fights[\"LAST_ROUND_TIME\"].apply(time_to_minutes)\n",
    "# new feature total fight time will be summed \n",
    "df_fights[\"TOTAL_FIGHT_TIME\"] = df_fights[\"LAST_ROUND\"] + df_fights[\"LAST_ROUND_TIME\"] - 1\n",
    "\n",
    "# new feature avg fight time will be averaged\n",
    "df_fights[\"AVG_FIGHT_TIME\"] = df_fights[\"TOTAL_FIGHT_TIME\"]"
   ]
  },
  {
   "cell_type": "code",
   "execution_count": 10,
   "metadata": {},
   "outputs": [
    {
     "data": {
      "text/plain": [
       "Index(['WINNER', 'BOUT', 'WIN_METHOD', 'LAST_ROUND', 'LAST_ROUND_TIME',\n",
       "       'ROUNDS', 'REFEREE', 'FIGHTER_R', 'FIGHTER_B', 'KD_R', 'KD_B',\n",
       "       'SIG_STR_R', 'SIG_STR_ATT_R', 'SIG_STR_B', 'SIG_STR_ATT_B',\n",
       "       'TOTAL_STR_R', 'TOTAL_STR_ATT_R', 'TOTAL_STR_B', 'TOTAL_STR_ATT_B',\n",
       "       'TAKEDOWN_R', 'TAKEDOWN_ATT_R', 'TAKEDOWN_B', 'TAKEDOWN_ATT_B',\n",
       "       'SUB_ATT_R', 'SUB_ATT_B', 'REV_R', 'REV_B', 'CTRL_R', 'CTRL_B',\n",
       "       'STR_HEAD_R', 'STR_HEAD_ATT_R', 'STR_HEAD_B', 'STR_HEAD_ATT_B',\n",
       "       'STR_BODY_R', 'STR_BODY_ATT_R', 'STR_BODY_B', 'STR_BODY_ATT_B',\n",
       "       'STR_LEG_R', 'STR_LEG_ATT_R', 'STR_LEG_B', 'STR_LEG_ATT_B',\n",
       "       'DISTANCE_R', 'DISTANCE_ATT_R', 'DISTANCE_B', 'DISTANCE_ATT_B',\n",
       "       'CLINCH_R', 'CLINCH_ATT_R', 'CLINCH_B', 'CLINCH_ATT_B', 'GROUND_R',\n",
       "       'GROUND_ATT_R', 'GROUND_B', 'GROUND_ATT_B', 'LOCATION', 'DATE',\n",
       "       'NAME_R', 'RECORD_R', 'HEIGHT_R', 'WEIGHT_R', 'REACH_R', 'STANCE_R',\n",
       "       'DOB_R', 'SIG_STR_L_PM_R', 'SIG_STR_ACC_R', 'SIG_STR_ABS_PM_R',\n",
       "       'SIG_STR_DEF_R', 'AVG_TAKEDOWN_15_MIN_R', 'TAKEDOWN_ACC_R',\n",
       "       'TAKEDOWN_DEF_R', 'AVG_SUB_ATT_15_MIN_R', 'NAME_B', 'RECORD_B',\n",
       "       'HEIGHT_B', 'WEIGHT_B', 'REACH_B', 'STANCE_B', 'DOB_B',\n",
       "       'SIG_STR_L_PM_B', 'SIG_STR_ACC_B', 'SIG_STR_ABS_PM_B', 'SIG_STR_DEF_B',\n",
       "       'AVG_TAKEDOWN_15_MIN_B', 'TAKEDOWN_ACC_B', 'TAKEDOWN_DEF_B',\n",
       "       'AVG_SUB_ATT_15_MIN_B', 'TITLE_FIGHT', 'MAIN_EVENT', 'TOTAL_FIGHT_TIME',\n",
       "       'AVG_FIGHT_TIME'],\n",
       "      dtype='object')"
      ]
     },
     "execution_count": 10,
     "metadata": {},
     "output_type": "execute_result"
    }
   ],
   "source": [
    "df_fights.columns"
   ]
  },
  {
   "cell_type": "markdown",
   "metadata": {},
   "source": [
    "### create feature \"Age\" for both competitors"
   ]
  },
  {
   "cell_type": "code",
   "execution_count": 27,
   "metadata": {},
   "outputs": [],
   "source": [
    "from dateutil.parser import parse\n",
    "\n",
    "df_fights[\"AGE_R\"] = [None] * len(df_fights)\n",
    "df_fights[\"AGE_B\"] = [None] * len(df_fights)\n",
    "\n",
    "# Calculate the age by the difference between the date of birth and the date of the fight\n",
    "for i in range(len(df_fights)):\n",
    "    try:\n",
    "        df_fights.loc[i,\"AGE_R\"] = (parse(df_fights.loc[i,\"DATE\"]).year - parse(df_fights.loc[i,\"DOB_R\"]).year)\n",
    "    except:\n",
    "        pass\n",
    "    try:\n",
    "        df_fights.loc[i,\"AGE_B\"] = (parse(df_fights.loc[i,\"DATE\"]).year - parse(df_fights.loc[i,\"DOB_B\"]).year)\n",
    "    except:\n",
    "        pass"
   ]
  },
  {
   "cell_type": "code",
   "execution_count": 12,
   "metadata": {},
   "outputs": [
    {
     "data": {
      "text/plain": [
       "(6637, 91)"
      ]
     },
     "execution_count": 12,
     "metadata": {},
     "output_type": "execute_result"
    }
   ],
   "source": [
    "df_fights.shape"
   ]
  },
  {
   "cell_type": "markdown",
   "metadata": {},
   "source": [
    "### create features for record before UFC\n",
    "- therefore add the total stats and subtract the record made in the UFC later on "
   ]
  },
  {
   "cell_type": "code",
   "execution_count": 13,
   "metadata": {},
   "outputs": [
    {
     "data": {
      "text/plain": [
       "WIN_PRE_UFC_R     float32\n",
       "LOSS_PRE_UFC_R    float32\n",
       "DRAW_PRE_UFC_R    float32\n",
       "WIN_PRE_UFC_B     float32\n",
       "LOSS_PRE_UFC_B    float64\n",
       "DRAW_PRE_UFC_B    float64\n",
       "dtype: object"
      ]
     },
     "execution_count": 13,
     "metadata": {},
     "output_type": "execute_result"
    }
   ],
   "source": [
    "RED = df_fights[\"RECORD_R\"].apply(lambda x: x.replace(\"Record: \", \"\").split(\"-\") if isinstance(x, str) else [np.nan] * 3)\n",
    "BLUE = df_fights[\"RECORD_B\"].apply(lambda x: x.replace(\"Record: \", \"\").split(\"-\") if isinstance(x, str) else [np.nan] * 3)\n",
    "\n",
    "RED_ARRAY = []\n",
    "BLUE_ARRAY = []\n",
    "\n",
    "for i,u in zip(RED, BLUE):\n",
    "    RED_ARRAY.append(i)\n",
    "    BLUE_ARRAY.append(u)\n",
    "\n",
    "df_fights[[\"WIN_PRE_UFC_R\", \"LOSS_PRE_UFC_R\", \"DRAW_PRE_UFC_R\"]] = pd.DataFrame(columns=[\"WIN_PRE_UFC_R\", \"LOSS_PRE_UFC_R\", \"DRAW_PRE_UFC_R\"], data=RED_ARRAY, index=df_fights.index)\n",
    "df_fights[[\"WIN_PRE_UFC_B\", \"LOSS_PRE_UFC_B\", \"DRAW_PRE_UFC_B\"]] = pd.DataFrame(columns=[\"WIN_PRE_UFC_B\", \"LOSS_PRE_UFC_B\", \"DRAW_PRE_UFC_B\"], data=BLUE_ARRAY, index=df_fights.index)\n",
    "\n",
    "# Add No Contest to DRAWs\n",
    "df_fights[\"DRAW_PRE_UFC_R\"] = df_fights[\"DRAW_PRE_UFC_R\"].apply(lambda x: int(x.replace(\" NC)\", \"\").split(\" (\")[0]) + \n",
    "                                                                            int(x.replace(\" NC)\", \"\").split(\" (\")[1])\n",
    "                                                                            if x is not np.nan and \"NC\" in x else x)\n",
    "\n",
    "df_fights[\"DRAW_PRE_UFC_B\"] = df_fights[\"DRAW_PRE_UFC_B\"].apply(lambda x: int(x.replace(\" NC)\", \"\").split(\" (\")[0]) + \n",
    "                                                                            int(x.replace(\" NC)\", \"\").split(\" (\")[1])\n",
    "                                                                            if x is not np.nan and \"NC\" in x else x)\n",
    "\n",
    "\n",
    "df_fights = df_fights.astype({\"WIN_PRE_UFC_R\":\"float32\", \"LOSS_PRE_UFC_R\":\"float32\", \"DRAW_PRE_UFC_R\":\"float32\", \"WIN_PRE_UFC_B\":\"float32\", \"LOSS_PRE_UFC_B\":\"float\", \"DRAW_PRE_UFC_B\":\"float\"})\n",
    "\n",
    "df_fights[[\"WIN_PRE_UFC_R\", \"LOSS_PRE_UFC_R\", \"DRAW_PRE_UFC_R\",\"WIN_PRE_UFC_B\", \"LOSS_PRE_UFC_B\", \"DRAW_PRE_UFC_B\"]].dtypes"
   ]
  },
  {
   "cell_type": "markdown",
   "metadata": {},
   "source": [
    "### Transform Data so each row represents accumulated statistics"
   ]
  },
  {
   "cell_type": "code",
   "execution_count": 15,
   "metadata": {},
   "outputs": [
    {
     "name": "stdout",
     "output_type": "stream",
     "text": [
      "(6637, 99) (6637, 99)\n",
      "2224 2224\n"
     ]
    }
   ],
   "source": [
    "df_fights['FIGHT_ID'] = np.arange(len(df_fights))\n",
    "df_fights_b_to_r = df_fights.copy()\n",
    "\n",
    "df_fights[\"ORIGINAL\"] = 1\n",
    "df_fights_b_to_r[\"ORIGINAL\"] = 0\n",
    "\n",
    "columns_swap = []\n",
    "# reverse all fighter specific columns\n",
    "for column in df_fights_b_to_r.columns:\n",
    "    if column.endswith(\"_R\"):\n",
    "       column = column[:-2] + \"_B\"\n",
    "    elif column.endswith(\"_B\"):\n",
    "       column = column[:-2] + \"_R\"\n",
    "    else:\n",
    "        pass\n",
    "    columns_swap.append(column)\n",
    "\n",
    "# reverse winner & loser\n",
    "winners = []\n",
    "for i in df_fights_b_to_r[\"WINNER\"]:\n",
    "    if i == \"red\":\n",
    "        winner = \"blue\"\n",
    "    elif i == \"blue\":\n",
    "        winner = \"red\"\n",
    "    else:\n",
    "        winner = \"draw/NC\"\n",
    "    winners.append(winner)\n",
    "    \n",
    "# Assign new columns\n",
    "df_fights_b_to_r.columns = columns_swap\n",
    "df_fights_b_to_r['WINNER'] = winners\n",
    "# bring columns into the same order for Union\n",
    "df_fights_rev_b = df_fights_b_to_r[df_fights.columns]\n",
    "print(df_fights.shape, df_fights_rev_b.shape)\n",
    "print(df_fights.isna().sum().sum(), df_fights_rev_b.isna().sum().sum())"
   ]
  },
  {
   "cell_type": "markdown",
   "metadata": {},
   "source": [
    "#### Union both dataframes and calculate accumulated statistics"
   ]
  },
  {
   "cell_type": "code",
   "execution_count": 16,
   "metadata": {},
   "outputs": [
    {
     "name": "stdout",
     "output_type": "stream",
     "text": [
      "(13274, 99)\n",
      "4448\n"
     ]
    }
   ],
   "source": [
    "df_fights_all = pd.concat([df_fights, df_fights_b_to_r]).sort_values(\"FIGHT_ID\")\n",
    "\n",
    "print(df_fights_all.shape)\n",
    "print(df_fights_all.isna().sum().sum())"
   ]
  },
  {
   "cell_type": "code",
   "execution_count": 17,
   "metadata": {},
   "outputs": [],
   "source": [
    "df_fights_all = df_fights_all.sort_values(\"FIGHT_ID\", ascending=False)"
   ]
  },
  {
   "cell_type": "code",
   "execution_count": 18,
   "metadata": {},
   "outputs": [],
   "source": [
    "# We want to get the record of the time of the fight, but Winner is also our target variable\n",
    "# copy, because get_dummies() makes the original column disappear\n",
    "df_fights_all[\"WINNER_1\"] = df_fights_all[\"WINNER\"]\n",
    "\n",
    "df_fights_all = pd.get_dummies(df_fights_all, columns=[\"WINNER_1\", \"WIN_METHOD\", \"ROUNDS\"], prefix=\"\", prefix_sep='')\n",
    "df_fights_all = pd.get_dummies(df_fights_all, columns=[\"STANCE_R\"], prefix=\"STANCE\", prefix_sep='_')\n",
    "\n",
    "df_fights_all = df_fights_all.rename(columns={\"red\":\"WIN\", \"blue\":\"LOSS\", \"draw/NC\":\"DRAW\", \n",
    "                            \"Could Not Continue\":\"COULD_NOT_CON\",\n",
    "                            \"Decision - Majority\":\"DEC_MAJORITY\",\n",
    "                            \"Decision - Split\":\"DEC_SPLIT\",\n",
    "                            \"Decision - Unanimous\":\"DEC_UNANIMOUS\",\n",
    "                            \"KO/TKO\":\"KO_TKO\", \"Other\":\"OTHER\",\n",
    "                            \"Overturned\":\"OVERTURNED\", \"Submission\":\"SUBMISSION\",\n",
    "                            \"TKO - Doctor's Stoppage\":\"TKO_DOC_STOP\",\n",
    "                            \"3 Rnd (5-5-5)\":\"3_ROUND\", \"5 Rnd (5-5-5-5-5)\":\"5_ROUND\",\n",
    "                            \"STANCE_Open Stance\":\"OPEN_STANCE_R\", \"STANCE_Orthodox\":\"ORTHODOX_R\",\n",
    "                            \"STANCE_Sideways\":\"SIDEWAYS_R\", \"STANCE_Southpaw\":\"SOUTHPAW_R\",\n",
    "                            \"STANCE_Switch\":\"SWITCH_R\"})\n"
   ]
  },
  {
   "cell_type": "code",
   "execution_count": 19,
   "metadata": {},
   "outputs": [],
   "source": [
    "df_fights_all.replace(to_replace=[None], value=np.nan, inplace=True)\n",
    "test = df_fights_all.astype({\"WIN_PRE_UFC_R\":\"float32\",\"LOSS_PRE_UFC_R\":\"float32\", \"DRAW_PRE_UFC_R\" :\"float32\",\"WIN_PRE_UFC_B\":\"float32\", \"LOSS_PRE_UFC_B\":\"float32\", \"DRAW_PRE_UFC_B\":\"float32\"})"
   ]
  },
  {
   "cell_type": "markdown",
   "metadata": {},
   "source": [
    "## Win streak? Champion flag?"
   ]
  },
  {
   "cell_type": "code",
   "execution_count": 20,
   "metadata": {},
   "outputs": [],
   "source": [
    "avg_columns = [\"KD_R\"\n",
    "                ,\"KD_B\"\n",
    "                ,\"SIG_STR_R\"\n",
    "                ,\"SIG_STR_ATT_R\"\n",
    "                ,\"SIG_STR_B\"\n",
    "                ,\"SIG_STR_ATT_B\"\n",
    "                ,\"TOTAL_STR_R\"\n",
    "                ,\"TOTAL_STR_ATT_R\"\n",
    "                ,\"TOTAL_STR_B\"\n",
    "                ,\"TOTAL_STR_ATT_B\"\n",
    "                ,\"TAKEDOWN_R\"\n",
    "                ,\"TAKEDOWN_ATT_R\"\n",
    "                ,\"TAKEDOWN_B\"\n",
    "                ,\"TAKEDOWN_ATT_B\"\n",
    "                ,\"SUB_ATT_R\"\n",
    "                ,\"SUB_ATT_B\"\n",
    "                ,\"REV_R\"\n",
    "                ,\"REV_B\"\n",
    "                ,\"CTRL_R\"\n",
    "                ,\"CTRL_B\"\n",
    "                ,\"STR_HEAD_R\"\n",
    "                ,\"STR_HEAD_ATT_R\"\n",
    "                ,\"STR_HEAD_B\"\n",
    "                ,\"STR_HEAD_ATT_B\"\n",
    "                ,\"STR_BODY_R\"\n",
    "                ,\"STR_BODY_ATT_R\"\n",
    "                ,\"STR_BODY_B\"\n",
    "                ,\"STR_BODY_ATT_B\"\n",
    "                ,\"STR_LEG_R\"\n",
    "                ,\"STR_LEG_ATT_R\"\n",
    "                ,\"STR_LEG_B\"\n",
    "                ,\"STR_LEG_ATT_B\"\n",
    "                ,\"DISTANCE_R\"\n",
    "                ,\"DISTANCE_ATT_R\"\n",
    "                ,\"DISTANCE_B\"\n",
    "                ,\"DISTANCE_ATT_B\"\n",
    "                ,\"CLINCH_R\"\n",
    "                ,\"CLINCH_ATT_R\"\n",
    "                ,\"CLINCH_B\"\n",
    "                ,\"CLINCH_ATT_B\"\n",
    "                ,\"GROUND_R\"\n",
    "                ,\"GROUND_ATT_R\"\n",
    "                ,\"GROUND_B\"\n",
    "                ,\"GROUND_ATT_B\"\n",
    "                ,\"AVG_FIGHT_TIME\"]\n",
    "\n",
    "sum_columns = [\"LOSS\"\n",
    "                ,\"DRAW\"\n",
    "                ,\"WIN\"\n",
    "                ,\"COULD_NOT_CON\"\n",
    "                ,\"DQ\"\n",
    "                ,\"DEC_MAJORITY\"\n",
    "                ,\"DEC_SPLIT\"\n",
    "                ,\"DEC_UNANIMOUS\"\n",
    "                ,\"KO_TKO\"\n",
    "                ,\"OTHER\"\n",
    "                ,\"OVERTURNED\"\n",
    "                ,\"SUBMISSION\"\n",
    "                ,\"TKO_DOC_STOP\"\n",
    "                ,\"3_ROUND\"\n",
    "                ,\"5_ROUND\"]"
   ]
  },
  {
   "cell_type": "code",
   "execution_count": 21,
   "metadata": {},
   "outputs": [],
   "source": [
    "# Function for calculating streaks\n",
    "def generate_streak_info(df, column):\n",
    "  \n",
    "    data = df[f\"{column}\"].to_frame()\n",
    "    data['start_of_streak'] = data[f\"{column}\"].ne(data[f\"{column}\"].shift())\n",
    "    data['streak_id'] = data.start_of_streak.cumsum()\n",
    "    data['streak_counter'] = data.groupby('streak_id').cumcount() + 1\n",
    "    df_with_streaks = pd.concat([df, data['streak_counter']], axis=1)\n",
    "    return df_with_streaks\n"
   ]
  },
  {
   "cell_type": "code",
   "execution_count": 32,
   "metadata": {},
   "outputs": [],
   "source": [
    "\n",
    "output = []\n",
    "\n",
    "# compute for each fighter aggregated statistics\n",
    "for i in df_fights_all.FIGHTER_R.unique():\n",
    "\n",
    "    df_fighter = df_fights_all[df_fights_all[\"FIGHTER_R\"] == i].copy()\n",
    "\n",
    "\n",
    "    # GET FEATURES IS_CHAMPION AND WAS_CHAMPION\n",
    "    df_fighter[\"CHAMPION\"] = df_fighter.apply(lambda x: 1 if x.TITLE_FIGHT == 1 and x.WINNER == \"red\" else 0, axis=1)\n",
    "    df_fighter[\"still_CHAMPION\"] = df_fighter.apply(lambda x: 1 if x.TITLE_FIGHT == 1 and x.WINNER == \"draw/NC\" else 0, axis=1)\n",
    "\n",
    "    df_fighter[\"CHAMPION_roll_1\"] = df_fighter[\"CHAMPION\"].rolling(1).sum().shift(1)\n",
    "    df_fighter[\"CHAMPION_roll_2\"] = df_fighter[\"CHAMPION\"].rolling(1).sum().shift(2)\n",
    "    df_fighter[\"still_CHAMPION_roll_1\"] = df_fighter[\"still_CHAMPION\"].rolling(1).sum().shift(1)\n",
    "    \n",
    "    # if the fighter won his last champion ship fight then he is the champion.\n",
    "    # if the champion pulls a draw he still is the champ\n",
    "    \n",
    "    df_fighter[\"IS_CHAMPION\"] = df_fighter.apply(lambda x: 1 if x.CHAMPION_roll_1 == 1 \n",
    "                                                        or (x.CHAMPION_roll_2 == 1 and x.still_CHAMPION_roll_1 == 1) \n",
    "                                                        else 0, axis=1)\n",
    "    # if the fighter won a champion ship match and is not the champion currently then he was a champion\n",
    "    df_fighter[\"WAS_CHAMPION\"] = df_fighter[\"CHAMPION\"].expanding().max().shift(1) - df_fighter[\"IS_CHAMPION\"]\n",
    "    \n",
    "    # GET FEATURE WINNING STREAK: Winning streak is displayed as positive numbers and losses in negativ\n",
    "    df_fighter[\"streak_counter\"] = generate_streak_info(df_fighter, \"WIN\")[\"streak_counter\"]\n",
    "    df_fighter[\"WIN_LOSS_STREAK\"] = df_fighter.apply(lambda x: x.streak_counter if x.WIN == 1 else 0, axis=1)\n",
    "    df_fighter[\"WIN_LOSS_STREAK\"] = df_fighter.apply(lambda x: -x.streak_counter if x.LOSS == 1 and x.WIN_LOSS_STREAK == 0 else x.WIN_LOSS_STREAK, axis=1)\n",
    "    df_fighter[\"WIN_LOSS_STREAK\"] = df_fighter[\"WIN_LOSS_STREAK\"].shift(1)\n",
    "\n",
    "    # shift() for only aggregating the infos of previous fights\n",
    "\n",
    "    # avg_columns = list(test.columns[7:51])\n",
    "    # avg_columns.append(test.columns[86])\n",
    "\n",
    "    for avg_column in avg_columns:\n",
    "        df_fighter[f\"{avg_column}\"] = df_fighter[f\"{avg_column}\"].expanding().mean().shift(1) \n",
    "\n",
    "\n",
    "    # sum_columns = list(test.columns[83:86])\n",
    "    # for i in test.columns[97:]:\n",
    "    #     sum_columns.append(i)\n",
    "\n",
    "    for sum_column in sum_columns:\n",
    "        df_fighter[f\"{sum_column}\"] = df_fighter[f\"{sum_column}\"].expanding().sum().shift(1) \n",
    "\n",
    "    # calculate stats before ufc debut\n",
    "    df_fighter[\"WIN_PRE_UFC_R\"] = df_fighter[\"WIN_PRE_UFC_R\"] - df_fighter[\"WIN\"]\n",
    "    df_fighter[\"LOSS_PRE_UFC_R\"] = df_fighter[\"LOSS_PRE_UFC_R\"] - df_fighter[\"LOSS\"]\n",
    "    df_fighter[\"DRAW_PRE_UFC_R\"] = df_fighter[\"WIN_PRE_UFC_R\"] - df_fighter[\"DRAW\"]     \n",
    "\n",
    "    output.append(df_fighter)\n",
    "\n",
    "# concat all fighters\n",
    "df_collect = pd.concat(output).sort_index()"
   ]
  },
  {
   "cell_type": "markdown",
   "metadata": {},
   "source": [
    "### Remove unwanted columns\n",
    "- because in the next step the competitors will be joined again. The columns will represent the stats of the individual fighter and the stats of all opponents they had previously."
   ]
  },
  {
   "cell_type": "code",
   "execution_count": 50,
   "metadata": {},
   "outputs": [],
   "source": [
    "unwanted_columns = [ # Helper columns for calculating champion-features\n",
    "                    \"CHAMPION\"\n",
    "                    ,\"still_CHAMPION\"\n",
    "                    ,\"CHAMPION_roll_1\"\n",
    "                    ,\"CHAMPION_roll_2\"\n",
    "                    ,\"still_CHAMPION_roll_1\"\n",
    "                    ,\"streak_counter\"\n",
    "                    # unnecessary columns\n",
    "                    ,\"REFEREE\"                      # too many categories and they change with time\n",
    "                    ,\"LAST_ROUND\"                   # redundant information with AVG_FIGHT_TIME\n",
    "                    ,\"LAST_ROUND_TIME\"              # redundant information with AVG_FIGHT_TIME\n",
    "                    ,\"FIGHTER_B\"                    # The tables will be joined and FIGHTER_R from the reversed rows becomes FIGHTER_B\n",
    "                    ,\"LOCATION\"                     # Since there is no information about the fighter's location, this function has no use for displaying a possible travel time or time difference for each fighter\n",
    "                    ,\"DATE\"                         # was used for the calculation of the age\n",
    "                    ,\"NAME_R\"                       # redundant\n",
    "                    ,\"RECORD_R\"                     # was used for extracting wins, losses and draws\n",
    "                    ,\"DOB_R\"                        # was used for the calculation of the age\n",
    "                    ,\"SIG_STR_L_PM_R\"               #\n",
    "                    ,\"SIG_STR_ACC_R\"                #\n",
    "                    ,\"SIG_STR_ABS_PM_R\"             #\n",
    "                    ,\"SIG_STR_DEF_R\"                # \n",
    "                    ,\"AVG_TAKEDOWN_15_MIN_R\"        # \n",
    "                    ,\"TAKEDOWN_ACC_R\"               #\n",
    "                    ,\"TAKEDOWN_DEF_R\"               #\n",
    "                    ,\"AVG_SUB_ATT_15_MIN_R\"         # Those values are calculated across the hole career and cannot be use for model training \n",
    "                    ,\"NAME_B\"\n",
    "                    ,\"RECORD_B\"                     # same for the \"_B\"-columns\n",
    "                    ,\"HEIGHT_B\"\n",
    "                    ,\"REACH_B\"\n",
    "                    ,\"STANCE_B\"\n",
    "                    ,\"DOB_B\"\n",
    "                    ,\"SIG_STR_L_PM_B\"\n",
    "                    ,\"SIG_STR_ACC_B\"\n",
    "                    ,\"SIG_STR_ABS_PM_B\"\n",
    "                    ,\"SIG_STR_DEF_B\"\n",
    "                    ,\"AVG_TAKEDOWN_15_MIN_B\"\n",
    "                    ,\"TAKEDOWN_ACC_B\"\n",
    "                    ,\"TAKEDOWN_DEF_B\"\n",
    "                    ,\"AVG_SUB_ATT_15_MIN_B\"\n",
    "                    ,\"AGE_B\"\n",
    "                    ,\"WIN_PRE_UFC_B\"\n",
    "                    ,\"LOSS_PRE_UFC_B\"\n",
    "                    ,\"DRAW_PRE_UFC_B\"\n",
    "                    ,\"STANCE_B\"]               \n",
    "\n",
    "df_collect_1 = df_collect.drop(unwanted_columns, axis='columns')"
   ]
  },
  {
   "cell_type": "code",
   "execution_count": 66,
   "metadata": {},
   "outputs": [],
   "source": [
    "# join the stats of the competetors in one row\n",
    "# The stats of all previous opponents well be displayed with the suffix \"_OPP_\" before \"_R\" or \"_B\"\n",
    "\n",
    "df_original = df_collect_1[df_collect_1[\"ORIGINAL\"]==1]\n",
    "df_reversed = df_collect_1[df_collect_1[\"ORIGINAL\"]==0]\n",
    "\n",
    "# drop shared stats of the fight\n",
    "df_reversed = df_reversed.drop([\"BOUT\", \"WINNER\"], axis='columns')\n",
    "\n",
    "\n",
    "columns_swap_original = []\n",
    "# reverse all fighter specific columns\n",
    "for column in df_original.columns:\n",
    "    if column.endswith(\"_B\"):\n",
    "       column = column[:-2] + \"_OPP_R\"\n",
    "    elif column.endswith(\"_R\"):\n",
    "        pass\n",
    "    elif column in [\"BOUT\", \"WINNER\", \"FIGHT_ID\"]:\n",
    "        pass\n",
    "    else:  \n",
    "        column = column + \"_R\"\n",
    "    columns_swap_original.append(column)\n",
    "\n",
    "\n",
    "columns_swap_switched = []\n",
    "# reverse all fighter specific columns\n",
    "for column in df_reversed.columns:\n",
    "    if column.endswith(\"_B\"):\n",
    "       column = column[:-2] + \"_OPP_B\"\n",
    "    elif column.endswith(\"_R\"):\n",
    "       column = column[:-2] + \"_B\" \n",
    "    elif column == \"FIGHT_ID\":\n",
    "        pass\n",
    "    else:\n",
    "        column = column + \"_B\"\n",
    "    columns_swap_switched.append(column)\n",
    "\n",
    "df_original.columns = columns_swap_original\n",
    "df_reversed.columns = columns_swap_switched"
   ]
  },
  {
   "cell_type": "code",
   "execution_count": 67,
   "metadata": {},
   "outputs": [],
   "source": [
    "df_fights_complete = df_original.merge(df_reversed, on=\"FIGHT_ID\", how=\"inner\", suffixes=('_x', '_y'))\n",
    "df_fights_complete = df_fights_complete.drop(columns = [\"FIGHT_ID\", \"ORIGINAL_R\", \"ORIGINAL_B\"])\n",
    "df_fights_complete = df_fights_complete.reindex(sorted(df_fights_complete.columns), axis=1)"
   ]
  },
  {
   "cell_type": "code",
   "execution_count": 68,
   "metadata": {},
   "outputs": [
    {
     "data": {
      "text/plain": [
       "array(['Light Heavyweight Bout', 'Heavyweight Bout', 'Welterweight Bout',\n",
       "       'Flyweight Bout', \"Women's Flyweight Bout\", 'Bantamweight Bout',\n",
       "       \"Women's Strawweight Bout\", 'UFC Middleweight Title Bout',\n",
       "       \"UFC Women's Strawweight Title Bout\", 'Lightweight Bout',\n",
       "       'Middleweight Bout', 'Featherweight Bout',\n",
       "       \"Women's Bantamweight Bout\", 'UFC Lightweight Title Bout',\n",
       "       'UFC Bantamweight Title Bout', 'Catch Weight Bout',\n",
       "       \"Women's Featherweight Bout\", 'UFC Welterweight Title Bout',\n",
       "       \"UFC Women's Bantamweight Title Bout\",\n",
       "       'UFC Featherweight Title Bout', 'UFC Light Heavyweight Title Bout',\n",
       "       \"UFC Women's Flyweight Title Bout\", 'UFC Heavyweight Title Bout',\n",
       "       'UFC Flyweight Title Bout', 'UFC Interim Bantamweight Title Bout',\n",
       "       'UFC Interim Heavyweight Title Bout',\n",
       "       \"UFC Women's Featherweight Title Bout\",\n",
       "       'UFC Interim Lightweight Title Bout',\n",
       "       'UFC Interim Middleweight Title Bout',\n",
       "       'UFC Interim Welterweight Title Bout',\n",
       "       'UFC Interim Featherweight Title Bout',\n",
       "       'UFC Interim Light Heavyweight Title Bout'], dtype=object)"
      ]
     },
     "execution_count": 68,
     "metadata": {},
     "output_type": "execute_result"
    }
   ],
   "source": [
    "df_fights_complete[\"BOUT\"].unique()"
   ]
  },
  {
   "cell_type": "markdown",
   "metadata": {},
   "source": [
    "### Extract weight from the competition\n",
    "- the individual weight is the current weight and may have changed by the carrier.\n",
    "- If no weight is available or the catch weight is displayed, the fighter's statistics are used."
   ]
  },
  {
   "cell_type": "code",
   "execution_count": 69,
   "metadata": {},
   "outputs": [
    {
     "data": {
      "text/plain": [
       "array([205., 265., 170., 125., 135., 115., 185., 155., 145., 175., 235.],\n",
       "      dtype=float32)"
      ]
     },
     "execution_count": 69,
     "metadata": {},
     "output_type": "execute_result"
    }
   ],
   "source": [
    "df_fights_complete[\"BOUT\"] = df_fights_complete[\"BOUT\"].replace({'Light Heavyweight Bout': '205'\n",
    "                                                                ,'Heavyweight Bout':'265'\n",
    "                                                                ,'Welterweight Bout':'170'\n",
    "                                                                ,'Flyweight Bout':'125'\n",
    "                                                                ,\"Women's Flyweight Bout\":'125'\n",
    "                                                                ,\"Bantamweight Bout\":\"135\"\n",
    "                                                                ,\"Women's Strawweight Bout\":\"115\"\n",
    "                                                                ,\"UFC Middleweight Title Bout\":\"185\"\n",
    "                                                                ,\"UFC Women's Strawweight Title Bout\":\"115\"\n",
    "                                                                ,\"Lightweight Bout\":\"155 \"\n",
    "                                                                ,\"Middleweight Bout\":\"185\"\n",
    "                                                                ,\"Featherweight Bout\":\"145\"\n",
    "                                                                ,\"Women's Bantamweight Bout\":\"135\"\n",
    "                                                                ,\"UFC Lightweight Title Bout\":\"155\"\n",
    "                                                                ,\"UFC Bantamweight Title Bout\":\"135\"\n",
    "                                                                ,\"Catch Weight Bout\":None\n",
    "                                                                ,\"Women's Featherweight Bout\":\"145\"\n",
    "                                                                ,\"UFC Welterweight Title Bout\":\"170\"\n",
    "                                                                ,\"UFC Women's Bantamweight Title Bout\":\"135\"\n",
    "                                                                ,\"UFC Featherweight Title Bout\":\"145\"\n",
    "                                                                ,\"UFC Light Heavyweight Title Bout\":\"205\"\n",
    "                                                                ,\"UFC Women's Flyweight Title Bout\":\"125\"\n",
    "                                                                ,\"UFC Heavyweight Title Bout\":\"265\"\n",
    "                                                                ,\"UFC Flyweight Title Bout\":\"125\"\n",
    "                                                                ,\"UFC Interim Bantamweight Title Bout\":\"135\"\n",
    "                                                                ,\"UFC Interim Heavyweight Title Bout\":\"265\"\n",
    "                                                                ,\"UFC Women's Featherweight Title Bout\":\"145\"\n",
    "                                                                ,\"UFC Interim Lightweight Title Bout\":\"155\"\n",
    "                                                                ,\"UFC Interim Middleweight Title Bout\":\"185\"\n",
    "                                                                ,\"UFC Interim Welterweight Title Bout\":\"170\"\n",
    "                                                                ,\"UFC Interim Featherweight Title Bout\":\"175\"\n",
    "                                                                ,\"UFC Interim Light Heavyweight Title Bout\":\"205\"\n",
    "                                                                })\n",
    "\n",
    "df_fights_complete[\"BOUT\"] = df_fights_complete.apply(lambda x: x.WEIGHT_R.replace(\" lbs.\",\"\") if x.BOUT is None else x.BOUT, axis=1).astype(\"float32\")\n",
    "df_fights_complete[\"BOUT\"] = df_fights_complete.apply(lambda x: x.WEIGHT_B.replace(\" lbs.\",\"\") if x.BOUT is None else x.BOUT, axis=1).astype(\"float32\")\n",
    "\n",
    "# Indivdual no longer needed\n",
    "df_fights_complete = df_fights_complete.drop([\"WEIGHT_R\", \"WEIGHT_B\",\"WEIGHT_OPP_R\", \"WEIGHT_OPP_B\"], axis=1)\n",
    "\n",
    "df_fights_complete[\"BOUT\"].unique()"
   ]
  },
  {
   "cell_type": "code",
   "execution_count": 70,
   "metadata": {},
   "outputs": [
    {
     "name": "stdout",
     "output_type": "stream",
     "text": [
      "shape:  (6637, 158)\n",
      "NaNs: \n",
      "3_ROUND_B            1419\n",
      "3_ROUND_R             732\n",
      "5_ROUND_B            1419\n",
      "5_ROUND_R             732\n",
      "AGE_B                 135\n",
      "                     ... \n",
      "WIN_LOSS_STREAK_B    1419\n",
      "WIN_LOSS_STREAK_R     732\n",
      "WIN_PRE_UFC_B        1444\n",
      "WIN_PRE_UFC_R         754\n",
      "WIN_R                 732\n",
      "Length: 136, dtype: int64\n",
      "Dublicates:  0\n"
     ]
    }
   ],
   "source": [
    "shape = df_fights_complete.shape\n",
    "nan = np.sum(df_fights_complete.isnull())\n",
    "dublicates = np.sum(df_fights_complete.duplicated())\n",
    "\n",
    "print('shape: ', shape)\n",
    "print('NaNs: ', nan[nan > 0], sep=\"\\n\")\n",
    "print('Dublicates: ', dublicates)"
   ]
  },
  {
   "cell_type": "code",
   "execution_count": 71,
   "metadata": {},
   "outputs": [],
   "source": [
    "# Remove rows where more than ~ 30 percent of columns are nan\n",
    "df_fights_complete.replace(to_replace=[None], value=np.nan, inplace=True)\n",
    "df_fights_complete = df_fights_complete.dropna(thresh=len(df_fights_complete.columns)/1.4)\n",
    "nan_cols = df_fights_complete.columns[df_fights_complete.isnull().any()]\n",
    "\n",
    "# impute missing values using the median\n",
    "imp = SimpleImputer(missing_values=np.nan, strategy='median')\n",
    "imp.fit(df_fights_complete[nan_cols])\n",
    "df_fights_complete.loc[:,nan_cols] = imp.transform(df_fights_complete[nan_cols])\n",
    "\n",
    "# all dtypes except \"WINNER\", \"FIHGTER_R\" & \"FIHGTER_B\" have a numeric format\n",
    "df_fights_complete.to_csv(\"./output/fights_cleaned.csv\", sep=';', index=False)"
   ]
  }
 ],
 "metadata": {
  "kernelspec": {
   "display_name": "Python 3.10.5 ('sklearn-env')",
   "language": "python",
   "name": "python3"
  },
  "language_info": {
   "codemirror_mode": {
    "name": "ipython",
    "version": 3
   },
   "file_extension": ".py",
   "mimetype": "text/x-python",
   "name": "python",
   "nbconvert_exporter": "python",
   "pygments_lexer": "ipython3",
   "version": "3.10.5"
  },
  "orig_nbformat": 4,
  "vscode": {
   "interpreter": {
    "hash": "24e2d8eb6123511e2bac3155f5155dacfe9ea9ed66483de3ecfd1ff0795ea768"
   }
  }
 },
 "nbformat": 4,
 "nbformat_minor": 2
}
