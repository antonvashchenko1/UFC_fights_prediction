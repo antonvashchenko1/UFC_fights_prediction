{
 "cells": [
  {
   "cell_type": "code",
   "execution_count": 104,
   "metadata": {},
   "outputs": [],
   "source": [
    "import pandas as pd\n",
    "import numpy as np\n",
    "import matplotlib.pyplot as plt\n",
    "import seaborn as sns\n",
    "import json\n",
    "\n",
    "from sklearn.ensemble import RandomForestClassifier\n",
    "from sklearn.model_selection import train_test_split\n",
    "from sklearn.metrics import accuracy_score, classification_report, confusion_matrix\n",
    "from sklearn.utils.multiclass import unique_labels\n",
    "from sklearn.model_selection import GridSearchCV\n",
    "\n",
    "from imblearn.over_sampling import RandomOverSampler\n",
    "from imblearn.under_sampling import RandomUnderSampler\n",
    "\n",
    "%matplotlib inline"
   ]
  },
  {
   "cell_type": "code",
   "execution_count": 105,
   "metadata": {},
   "outputs": [],
   "source": [
    "def get_confusion_matrix(cm, labels):\n",
    "    ax= plt.subplot()\n",
    "    sns.heatmap(cm, annot=True, fmt='g', ax=ax)\n",
    "    ax.set_xlabel('Predicted labels')\n",
    "    ax.set_ylabel('True labels')\n",
    "    ax.set_title('Confusion Matrix')\n",
    "    ax.xaxis.set_ticklabels(labels)\n",
    "    ax.yaxis.set_ticklabels(labels)"
   ]
  },
  {
   "cell_type": "code",
   "execution_count": 106,
   "metadata": {},
   "outputs": [
    {
     "data": {
      "text/plain": [
       "(4878, 158)"
      ]
     },
     "execution_count": 106,
     "metadata": {},
     "output_type": "execute_result"
    }
   ],
   "source": [
    "df = pd.read_csv(\"./output/fights_cleaned.csv\", delimiter=\";\")\n",
    "df.shape"
   ]
  },
  {
   "cell_type": "code",
   "execution_count": 120,
   "metadata": {},
   "outputs": [
    {
     "name": "stdout",
     "output_type": "stream",
     "text": [
      "red     3009\n",
      "blue    1787\n",
      "Name: WINNER, dtype: int64\n",
      "red     2256\n",
      "blue    1672\n",
      "Name: WINNER, dtype: int64\n",
      "red     754\n",
      "blue    115\n",
      "Name: WINNER, dtype: int64\n"
     ]
    }
   ],
   "source": [
    "print(df[\"WINNER\"].value_counts())\n",
    "print(df.loc[:4000,\"WINNER\"].value_counts())\n",
    "print(df.loc[4000:,\"WINNER\"].value_counts())"
   ]
  },
  {
   "cell_type": "code",
   "execution_count": 108,
   "metadata": {},
   "outputs": [],
   "source": [
    "# due to rarity of draws it will not be considered, so we have a binary classification problem\n",
    "df = df[df[\"WINNER\"]!=\"draw/NC\"]"
   ]
  },
  {
   "cell_type": "markdown",
   "metadata": {},
   "source": [
    "- Apparently, in the early fights of the UFC, the red-blue concept was not yet introduced, so the website probably assigned the winner to the red color.\n",
    "- This should be taken into account as it changes the base prediction\n",
    "- possible solutions could be oversampling of the \"blue-Winner\"-population"
   ]
  },
  {
   "cell_type": "markdown",
   "metadata": {},
   "source": [
    "### get training & test set\n",
    "- data is not normalized"
   ]
  },
  {
   "cell_type": "code",
   "execution_count": 109,
   "metadata": {},
   "outputs": [],
   "source": [
    "y = df['WINNER']\n",
    "X = df.drop(columns = ['WINNER','FIGHTER_R','FIGHTER_B'])\n",
    "\n",
    "X_train, X_test, y_train, y_test = train_test_split(X, y, test_size=0.05, random_state=1)"
   ]
  },
  {
   "cell_type": "code",
   "execution_count": 110,
   "metadata": {},
   "outputs": [],
   "source": [
    "clf_1  = RandomForestClassifier(n_estimators=100, oob_score=True, random_state=1)"
   ]
  },
  {
   "cell_type": "code",
   "execution_count": 111,
   "metadata": {},
   "outputs": [
    {
     "data": {
      "text/plain": [
       "0.6812993854258121"
      ]
     },
     "execution_count": 111,
     "metadata": {},
     "output_type": "execute_result"
    }
   ],
   "source": [
    "clf_1.fit(X_train, y_train)\n",
    "y_pred = clf_1.predict(X_test)\n",
    "\n",
    "clf_1.oob_score_"
   ]
  },
  {
   "cell_type": "code",
   "execution_count": 112,
   "metadata": {},
   "outputs": [
    {
     "name": "stdout",
     "output_type": "stream",
     "text": [
      "RandomForrest accuracy:  0.7458333333333333\n",
      "Baseline accuracy:  0.6625\n"
     ]
    }
   ],
   "source": [
    "print(\"RandomForrest accuracy: \", accuracy_score(y_test, y_pred))\n",
    "print(\"Baseline accuracy: \", accuracy_score(y_test, [\"red\"]*len(y_test)))"
   ]
  },
  {
   "cell_type": "code",
   "execution_count": 113,
   "metadata": {},
   "outputs": [
    {
     "data": {
      "text/plain": [
       "LOSS_PRE_UFC_B         0.022985\n",
       "WIN_PRE_UFC_R          0.022775\n",
       "DRAW_PRE_UFC_R         0.020792\n",
       "DRAW_PRE_UFC_B         0.015159\n",
       "LOSS_PRE_UFC_R         0.014105\n",
       "AGE_R                  0.013873\n",
       "STR_HEAD_OPP_R         0.012575\n",
       "WIN_PRE_UFC_B          0.012013\n",
       "STR_BODY_ATT_B         0.011163\n",
       "AGE_B                  0.010785\n",
       "SIG_STR_OPP_R          0.010660\n",
       "DISTANCE_OPP_R         0.010636\n",
       "TOTAL_STR_OPP_R        0.010317\n",
       "DISTANCE_B             0.010247\n",
       "GROUND_ATT_R           0.010030\n",
       "CTRL_R                 0.009983\n",
       "GROUND_R               0.009881\n",
       "TOTAL_STR_OPP_B        0.009785\n",
       "DISTANCE_ATT_B         0.009758\n",
       "TOTAL_STR_R            0.009564\n",
       "STR_BODY_OPP_R         0.009378\n",
       "CTRL_OPP_B             0.009350\n",
       "GROUND_ATT_OPP_B       0.009349\n",
       "STR_HEAD_OPP_B         0.009345\n",
       "STR_HEAD_B             0.009283\n",
       "STR_BODY_ATT_OPP_R     0.009236\n",
       "STR_BODY_R             0.009109\n",
       "CTRL_OPP_R             0.009106\n",
       "TOTAL_STR_ATT_R        0.008945\n",
       "SIG_STR_ATT_B          0.008911\n",
       "STR_BODY_ATT_R         0.008882\n",
       "STR_BODY_B             0.008853\n",
       "TOTAL_STR_ATT_OPP_R    0.008842\n",
       "TAKEDOWN_ATT_B         0.008710\n",
       "STR_LEG_B              0.008698\n",
       "SIG_STR_B              0.008677\n",
       "STR_HEAD_ATT_B         0.008616\n",
       "AVG_FIGHT_TIME_R       0.008584\n",
       "TOTAL_STR_ATT_B        0.008534\n",
       "GROUND_OPP_R           0.008497\n",
       "GROUND_ATT_OPP_R       0.008477\n",
       "STR_LEG_ATT_R          0.008474\n",
       "GROUND_ATT_B           0.008438\n",
       "STR_HEAD_ATT_OPP_R     0.008417\n",
       "STR_LEG_ATT_B          0.008414\n",
       "TOTAL_STR_B            0.008390\n",
       "GROUND_OPP_B           0.008351\n",
       "DISTANCE_R             0.008327\n",
       "CLINCH_ATT_OPP_B       0.008309\n",
       "DISTANCE_ATT_OPP_R     0.008272\n",
       "CTRL_B                 0.008243\n",
       "DISTANCE_ATT_OPP_B     0.008242\n",
       "TAKEDOWN_R             0.008205\n",
       "CLINCH_ATT_R           0.008194\n",
       "CLINCH_OPP_R           0.008187\n",
       "STR_LEG_ATT_OPP_R      0.008151\n",
       "SIG_STR_R              0.008125\n",
       "AVG_FIGHT_TIME_B       0.008083\n",
       "STR_BODY_OPP_B         0.008068\n",
       "TAKEDOWN_B             0.008044\n",
       "SIG_STR_ATT_OPP_R      0.008037\n",
       "CLINCH_OPP_B           0.008029\n",
       "TAKEDOWN_OPP_R         0.008019\n",
       "STR_LEG_R              0.008006\n",
       "CLINCH_ATT_OPP_R       0.007998\n",
       "STR_LEG_OPP_B          0.007995\n",
       "STR_HEAD_ATT_R         0.007980\n",
       "REACH_B                0.007976\n",
       "TOTAL_STR_ATT_OPP_B    0.007968\n",
       "STR_HEAD_R             0.007966\n",
       "TAKEDOWN_ATT_R         0.007958\n",
       "SIG_STR_ATT_R          0.007882\n",
       "CLINCH_ATT_B           0.007852\n",
       "STR_LEG_OPP_R          0.007764\n",
       "CLINCH_B               0.007763\n",
       "STR_LEG_ATT_OPP_B      0.007752\n",
       "DISTANCE_OPP_B         0.007667\n",
       "TAKEDOWN_ATT_OPP_R     0.007587\n",
       "TOTAL_FIGHT_TIME_R     0.007490\n",
       "TAKEDOWN_ATT_OPP_B     0.007452\n",
       "3_ROUND_R              0.007445\n",
       "CLINCH_R               0.007385\n",
       "STR_BODY_ATT_OPP_B     0.007359\n",
       "GROUND_B               0.007338\n",
       "TOTAL_FIGHT_TIME_B     0.007312\n",
       "DISTANCE_ATT_R         0.007262\n",
       "SIG_STR_ATT_OPP_B      0.007246\n",
       "SIG_STR_OPP_B          0.007216\n",
       "LOSS_R                 0.007168\n",
       "STR_HEAD_ATT_OPP_B     0.007078\n",
       "TAKEDOWN_OPP_B         0.006891\n",
       "SUB_ATT_R              0.006300\n",
       "SUB_ATT_B              0.006291\n",
       "REACH_R                0.006237\n",
       "KD_OPP_R               0.005934\n",
       "KD_R                   0.005792\n",
       "HEIGHT_B               0.005695\n",
       "REV_R                  0.005611\n",
       "WIN_R                  0.005595\n",
       "SUB_ATT_OPP_R          0.005542\n",
       "3_ROUND_B              0.005162\n",
       "SUB_ATT_OPP_B          0.005103\n",
       "KO_TKO_R               0.005053\n",
       "HEIGHT_R               0.005047\n",
       "WIN_LOSS_STREAK_R      0.004909\n",
       "KD_B                   0.004803\n",
       "WIN_LOSS_STREAK_B      0.004633\n",
       "WIN_B                  0.004610\n",
       "REV_OPP_R              0.004500\n",
       "REV_B                  0.004470\n",
       "DEC_UNANIMOUS_B        0.004380\n",
       "BOUT                   0.004293\n",
       "DEC_UNANIMOUS_R        0.004188\n",
       "KD_OPP_B               0.004138\n",
       "REV_OPP_B              0.003868\n",
       "SUBMISSION_R           0.003790\n",
       "KO_TKO_B               0.003557\n",
       "LOSS_B                 0.003443\n",
       "SUBMISSION_B           0.003276\n",
       "DEC_SPLIT_R            0.003124\n",
       "5_ROUND_R              0.002567\n",
       "DEC_SPLIT_B            0.002051\n",
       "5_ROUND_B              0.001961\n",
       "DRAW_R                 0.001130\n",
       "DEC_MAJORITY_R         0.001024\n",
       "DRAW_B                 0.001018\n",
       "ORTHODOX_B             0.000943\n",
       "TKO_DOC_STOP_R         0.000928\n",
       "ORTHODOX_R             0.000907\n",
       "SOUTHPAW_B             0.000855\n",
       "OVERTURNED_R           0.000811\n",
       "SOUTHPAW_R             0.000708\n",
       "OVERTURNED_B           0.000690\n",
       "TITLE_FIGHT_B          0.000655\n",
       "MAIN_EVENT_R           0.000651\n",
       "TKO_DOC_STOP_B         0.000612\n",
       "SWITCH_B               0.000587\n",
       "DEC_MAJORITY_B         0.000584\n",
       "SWITCH_R               0.000548\n",
       "MAIN_EVENT_B           0.000543\n",
       "WAS_CHAMPION_R         0.000464\n",
       "TITLE_FIGHT_R          0.000456\n",
       "IS_CHAMPION_R          0.000415\n",
       "COULD_NOT_CON_R        0.000364\n",
       "WAS_CHAMPION_B         0.000241\n",
       "DQ_R                   0.000183\n",
       "COULD_NOT_CON_B        0.000182\n",
       "DQ_B                   0.000179\n",
       "IS_CHAMPION_B          0.000089\n",
       "OPEN_STANCE_R          0.000054\n",
       "OPEN_STANCE_B          0.000011\n",
       "OTHER_B                0.000000\n",
       "OTHER_R                0.000000\n",
       "SIDEWAYS_B             0.000000\n",
       "SIDEWAYS_R             0.000000\n",
       "dtype: float64"
      ]
     },
     "metadata": {},
     "output_type": "display_data"
    }
   ],
   "source": [
    "feature_scores = pd.Series(clf_1.feature_importances_, index=X_train.columns).sort_values(ascending=False)\n",
    "with pd.option_context('display.max_rows', 1000, 'display.max_columns', None):\n",
    "    display(feature_scores)"
   ]
  },
  {
   "cell_type": "code",
   "execution_count": 114,
   "metadata": {},
   "outputs": [
    {
     "data": {
      "image/png": "[encoded data removed]",
      "text/plain": [
       "<Figure size 432x288 with 2 Axes>"
      ]
     },
     "metadata": {
      "needs_background": "light"
     },
     "output_type": "display_data"
    }
   ],
   "source": [
    "conf_matrix = confusion_matrix(y_true=y_test, y_pred=y_pred)\n",
    "labels = unique_labels(y_test, y_pred)\n",
    "\n",
    "get_confusion_matrix(conf_matrix,labels)"
   ]
  },
  {
   "cell_type": "markdown",
   "metadata": {},
   "source": [
    "### comparing Oversampling, Undersampling and manual Data Selection"
   ]
  },
  {
   "cell_type": "code",
   "execution_count": 115,
   "metadata": {},
   "outputs": [],
   "source": [
    "# Oversampling\n",
    "ros = RandomOverSampler(random_state=1)\n",
    "X_train_ov, y_train_ov = ros.fit_resample(X_train, y_train)\n",
    "\n",
    "# Undesampling\n",
    "rus = RandomUnderSampler(random_state=1)\n",
    "X_train_und, y_train_und = rus.fit_resample(X_train, y_train)\n",
    "\n",
    "# Manual Data selection of (newer) events with blue and red corner concept\n",
    "df_new = df[:-622]\n",
    "y_new = df_new['WINNER']\n",
    "X_new = df_new.drop(columns = ['WINNER','FIGHTER_R','FIGHTER_B'])\n",
    "X_train_new, X_test_new, y_train_new, y_test_new = train_test_split(X_new, y_new, test_size=0.05, random_state=1)"
   ]
  },
  {
   "cell_type": "code",
   "execution_count": 116,
   "metadata": {},
   "outputs": [],
   "source": [
    "# fitting models\n",
    "clf_2 = RandomForestClassifier(n_estimators=100, oob_score=True, random_state=1)\n",
    "clf_3 = RandomForestClassifier(n_estimators=100, oob_score=True, random_state=1)\n",
    "clf_4 = RandomForestClassifier(n_estimators=100, oob_score=True, random_state=1)\n",
    "\n",
    "clf_2.fit(X_train_ov, y_train_ov)\n",
    "clf_3.fit(X_train_und, y_train_und)\n",
    "clf_4.fit(X_train_new, y_train_new)\n",
    "\n",
    "y_pred_ov = clf_2.predict(X_test)\n",
    "y_pred_und = clf_3.predict(X_test)\n",
    "y_pred_new = clf_4.predict(X_test_new)"
   ]
  },
  {
   "cell_type": "code",
   "execution_count": 117,
   "metadata": {},
   "outputs": [
    {
     "name": "stdout",
     "output_type": "stream",
     "text": [
      "Oversampling RandomForrest accuracy:  0.7291666666666666\n",
      "Oversampling Baseline accuracy:  0.6625\n",
      "Undesampling RandomForrest accuracy:  0.6458333333333334\n",
      "Undesampling Baseline accuracy:  0.6625\n",
      "Manual selection RandomForrest accuracy:  0.645933014354067\n",
      "Manual selection Baseline accuracy:  0.49760765550239233\n"
     ]
    }
   ],
   "source": [
    "# Evaluate perfomance\n",
    "print(\"Oversampling RandomForrest accuracy: \", accuracy_score(y_test, y_pred_ov))\n",
    "print(\"Oversampling Baseline accuracy: \", accuracy_score(y_test, [\"red\"]*len(y_test)))\n",
    "\n",
    "print(\"Undesampling RandomForrest accuracy: \", accuracy_score(y_test, y_pred_und))\n",
    "print(\"Undesampling Baseline accuracy: \", accuracy_score(y_test, [\"red\"]*len(y_test)))\n",
    "\n",
    "print(\"Manual selection RandomForrest accuracy: \", accuracy_score(y_test_new, y_pred_new))\n",
    "print(\"Manual selection Baseline accuracy: \", accuracy_score(y_test_new, [\"red\"]*len(y_test_new)))"
   ]
  },
  {
   "cell_type": "markdown",
   "metadata": {},
   "source": [
    "- the test-accuracies of the RFs combined with sampling methods are still worse than the model without any\n",
    "- when using Undersampling the accuracy is even lower than the accuracy of a trivial classifier"
   ]
  },
  {
   "cell_type": "markdown",
   "metadata": {},
   "source": [
    "### Tuning of Hyperparameters"
   ]
  },
  {
   "cell_type": "code",
   "execution_count": 121,
   "metadata": {},
   "outputs": [],
   "source": [
    "parameters = {\n",
    "            'max_depth': [10, 20, 30, 40, 50, 60, 70, 80, 90, 100, 500, 1000, None],\n",
    "            'max_features': ['sqrt','auto', None]\n",
    "            }"
   ]
  },
  {
   "cell_type": "code",
   "execution_count": 122,
   "metadata": {},
   "outputs": [
    {
     "name": "stdout",
     "output_type": "stream",
     "text": [
      "Fitting 4 folds for each of 39 candidates, totalling 156 fits\n"
     ]
    },
    {
     "data": {
      "text/html": [
       "<style>#sk-container-id-2 {color: black;background-color: white;}#sk-container-id-2 pre{padding: 0;}#sk-container-id-2 div.sk-toggleable {background-color: white;}#sk-container-id-2 label.sk-toggleable__label {cursor: pointer;display: block;width: 100%;margin-bottom: 0;padding: 0.3em;box-sizing: border-box;text-align: center;}#sk-container-id-2 label.sk-toggleable__label-arrow:before {content: \"▸\";float: left;margin-right: 0.25em;color: #696969;}#sk-container-id-2 label.sk-toggleable__label-arrow:hover:before {color: black;}#sk-container-id-2 div.sk-estimator:hover label.sk-toggleable__label-arrow:before {color: black;}#sk-container-id-2 div.sk-toggleable__content {max-height: 0;max-width: 0;overflow: hidden;text-align: left;background-color: #f0f8ff;}#sk-container-id-2 div.sk-toggleable__content pre {margin: 0.2em;color: black;border-radius: 0.25em;background-color: #f0f8ff;}#sk-container-id-2 input.sk-toggleable__control:checked~div.sk-toggleable__content {max-height: 200px;max-width: 100%;overflow: auto;}#sk-container-id-2 input.sk-toggleable__control:checked~label.sk-toggleable__label-arrow:before {content: \"▾\";}#sk-container-id-2 div.sk-estimator input.sk-toggleable__control:checked~label.sk-toggleable__label {background-color: #d4ebff;}#sk-container-id-2 div.sk-label input.sk-toggleable__control:checked~label.sk-toggleable__label {background-color: #d4ebff;}#sk-container-id-2 input.sk-hidden--visually {border: 0;clip: rect(1px 1px 1px 1px);clip: rect(1px, 1px, 1px, 1px);height: 1px;margin: -1px;overflow: hidden;padding: 0;position: absolute;width: 1px;}#sk-container-id-2 div.sk-estimator {font-family: monospace;background-color: #f0f8ff;border: 1px dotted black;border-radius: 0.25em;box-sizing: border-box;margin-bottom: 0.5em;}#sk-container-id-2 div.sk-estimator:hover {background-color: #d4ebff;}#sk-container-id-2 div.sk-parallel-item::after {content: \"\";width: 100%;border-bottom: 1px solid gray;flex-grow: 1;}#sk-container-id-2 div.sk-label:hover label.sk-toggleable__label {background-color: #d4ebff;}#sk-container-id-2 div.sk-serial::before {content: \"\";position: absolute;border-left: 1px solid gray;box-sizing: border-box;top: 0;bottom: 0;left: 50%;z-index: 0;}#sk-container-id-2 div.sk-serial {display: flex;flex-direction: column;align-items: center;background-color: white;padding-right: 0.2em;padding-left: 0.2em;position: relative;}#sk-container-id-2 div.sk-item {position: relative;z-index: 1;}#sk-container-id-2 div.sk-parallel {display: flex;align-items: stretch;justify-content: center;background-color: white;position: relative;}#sk-container-id-2 div.sk-item::before, #sk-container-id-2 div.sk-parallel-item::before {content: \"\";position: absolute;border-left: 1px solid gray;box-sizing: border-box;top: 0;bottom: 0;left: 50%;z-index: -1;}#sk-container-id-2 div.sk-parallel-item {display: flex;flex-direction: column;z-index: 1;position: relative;background-color: white;}#sk-container-id-2 div.sk-parallel-item:first-child::after {align-self: flex-end;width: 50%;}#sk-container-id-2 div.sk-parallel-item:last-child::after {align-self: flex-start;width: 50%;}#sk-container-id-2 div.sk-parallel-item:only-child::after {width: 0;}#sk-container-id-2 div.sk-dashed-wrapped {border: 1px dashed gray;margin: 0 0.4em 0.5em 0.4em;box-sizing: border-box;padding-bottom: 0.4em;background-color: white;}#sk-container-id-2 div.sk-label label {font-family: monospace;font-weight: bold;display: inline-block;line-height: 1.2em;}#sk-container-id-2 div.sk-label-container {text-align: center;}#sk-container-id-2 div.sk-container {/* jupyter's `normalize.less` sets `[hidden] { display: none; }` but bootstrap.min.css set `[hidden] { display: none !important; }` so we also need the `!important` here to be able to override the default hidden behavior on the sphinx rendered scikit-learn.org. See: https://github.com/scikit-learn/scikit-learn/issues/21755 */display: inline-block !important;position: relative;}#sk-container-id-2 div.sk-text-repr-fallback {display: none;}</style><div id=\"sk-container-id-2\" class=\"sk-top-container\"><div class=\"sk-text-repr-fallback\"><pre>GridSearchCV(cv=4,\n",
       "             estimator=RandomForestClassifier(n_estimators=1000,\n",
       "                                              random_state=1),\n",
       "             n_jobs=-1,\n",
       "             param_grid={&#x27;max_depth&#x27;: [10, 20, 30, 40, 50, 60, 70, 80, 90, 100,\n",
       "                                       500, 1000, None],\n",
       "                         &#x27;max_features&#x27;: [&#x27;sqrt&#x27;, &#x27;auto&#x27;, None]},\n",
       "             verbose=1)</pre><b>In a Jupyter environment, please rerun this cell to show the HTML representation or trust the notebook. <br />On GitHub, the HTML representation is unable to render, please try loading this page with nbviewer.org.</b></div><div class=\"sk-container\" hidden><div class=\"sk-item sk-dashed-wrapped\"><div class=\"sk-label-container\"><div class=\"sk-label sk-toggleable\"><input class=\"sk-toggleable__control sk-hidden--visually\" id=\"sk-estimator-id-2\" type=\"checkbox\" ><label for=\"sk-estimator-id-2\" class=\"sk-toggleable__label sk-toggleable__label-arrow\">GridSearchCV</label><div class=\"sk-toggleable__content\"><pre>GridSearchCV(cv=4,\n",
       "             estimator=RandomForestClassifier(n_estimators=1000,\n",
       "                                              random_state=1),\n",
       "             n_jobs=-1,\n",
       "             param_grid={&#x27;max_depth&#x27;: [10, 20, 30, 40, 50, 60, 70, 80, 90, 100,\n",
       "                                       500, 1000, None],\n",
       "                         &#x27;max_features&#x27;: [&#x27;sqrt&#x27;, &#x27;auto&#x27;, None]},\n",
       "             verbose=1)</pre></div></div></div><div class=\"sk-parallel\"><div class=\"sk-parallel-item\"><div class=\"sk-item\"><div class=\"sk-label-container\"><div class=\"sk-label sk-toggleable\"><input class=\"sk-toggleable__control sk-hidden--visually\" id=\"sk-estimator-id-3\" type=\"checkbox\" ><label for=\"sk-estimator-id-3\" class=\"sk-toggleable__label sk-toggleable__label-arrow\">estimator: RandomForestClassifier</label><div class=\"sk-toggleable__content\"><pre>RandomForestClassifier(n_estimators=1000, random_state=1)</pre></div></div></div><div class=\"sk-serial\"><div class=\"sk-item\"><div class=\"sk-estimator sk-toggleable\"><input class=\"sk-toggleable__control sk-hidden--visually\" id=\"sk-estimator-id-4\" type=\"checkbox\" ><label for=\"sk-estimator-id-4\" class=\"sk-toggleable__label sk-toggleable__label-arrow\">RandomForestClassifier</label><div class=\"sk-toggleable__content\"><pre>RandomForestClassifier(n_estimators=1000, random_state=1)</pre></div></div></div></div></div></div></div></div></div></div>"
      ],
      "text/plain": [
       "GridSearchCV(cv=4,\n",
       "             estimator=RandomForestClassifier(n_estimators=1000,\n",
       "                                              random_state=1),\n",
       "             n_jobs=-1,\n",
       "             param_grid={'max_depth': [10, 20, 30, 40, 50, 60, 70, 80, 90, 100,\n",
       "                                       500, 1000, None],\n",
       "                         'max_features': ['sqrt', 'auto', None]},\n",
       "             verbose=1)"
      ]
     },
     "execution_count": 122,
     "metadata": {},
     "output_type": "execute_result"
    }
   ],
   "source": [
    "clf_5 = RandomForestClassifier(random_state=1, n_estimators=1000, criterion='gini')\n",
    "rf_cv = GridSearchCV(estimator = clf_5, param_grid = parameters, cv=4, n_jobs = -1, verbose=1 #,n_iter=10\n",
    "                        )\n",
    "rf_cv.fit(X_train, y_train)"
   ]
  },
  {
   "cell_type": "code",
   "execution_count": 123,
   "metadata": {},
   "outputs": [
    {
     "data": {
      "text/plain": [
       "{'max_depth': 30, 'max_features': None}"
      ]
     },
     "execution_count": 123,
     "metadata": {},
     "output_type": "execute_result"
    }
   ],
   "source": [
    "rf_cv.best_params_"
   ]
  },
  {
   "cell_type": "code",
   "execution_count": 124,
   "metadata": {},
   "outputs": [],
   "source": [
    "with open(\"./output/random_forest_params\", \"w\") as f:\n",
    "    json.dump(rf_cv.best_params_, f, indent=4)"
   ]
  },
  {
   "cell_type": "code",
   "execution_count": 126,
   "metadata": {},
   "outputs": [],
   "source": [
    "clf_6 = rf_cv.best_estimator_"
   ]
  },
  {
   "cell_type": "code",
   "execution_count": 128,
   "metadata": {},
   "outputs": [
    {
     "data": {
      "text/plain": [
       "0.7458333333333333"
      ]
     },
     "execution_count": 128,
     "metadata": {},
     "output_type": "execute_result"
    }
   ],
   "source": [
    "y_6_preds = clf_6.predict(X_test)\n",
    "accuracy_score(y_test, y_6_preds)"
   ]
  },
  {
   "cell_type": "code",
   "execution_count": 129,
   "metadata": {},
   "outputs": [
    {
     "data": {
      "image/png": "[encoded data removed]",
      "text/plain": [
       "<Figure size 432x288 with 2 Axes>"
      ]
     },
     "metadata": {
      "needs_background": "light"
     },
     "output_type": "display_data"
    }
   ],
   "source": [
    "conf_matrix = confusion_matrix(y_true=y_test, y_pred=y_6_preds)\n",
    "labels = unique_labels(y_test, y_6_preds)\n",
    "\n",
    "get_confusion_matrix(conf_matrix,labels)"
   ]
  },
  {
   "cell_type": "code",
   "execution_count": 130,
   "metadata": {},
   "outputs": [
    {
     "name": "stdout",
     "output_type": "stream",
     "text": [
      "              precision    recall  f1-score   support\n",
      "\n",
      "        blue       0.72      0.41      0.52        81\n",
      "         red       0.75      0.92      0.83       159\n",
      "\n",
      "    accuracy                           0.75       240\n",
      "   macro avg       0.73      0.66      0.67       240\n",
      "weighted avg       0.74      0.75      0.72       240\n",
      "\n"
     ]
    }
   ],
   "source": [
    "print(classification_report(y_test, y_6_preds))"
   ]
  },
  {
   "cell_type": "markdown",
   "metadata": {},
   "source": [
    "- no improvement by hyperparameter tuning"
   ]
  }
 ],
 "metadata": {
  "kernelspec": {
   "display_name": "Python 3.10.5 ('sklearn-env')",
   "language": "python",
   "name": "python3"
  },
  "language_info": {
   "codemirror_mode": {
    "name": "ipython",
    "version": 3
   },
   "file_extension": ".py",
   "mimetype": "text/x-python",
   "name": "python",
   "nbconvert_exporter": "python",
   "pygments_lexer": "ipython3",
   "version": "3.10.5"
  },
  "orig_nbformat": 4,
  "vscode": {
   "interpreter": {
    "hash": "24e2d8eb6123511e2bac3155f5155dacfe9ea9ed66483de3ecfd1ff0795ea768"
   }
  }
 },
 "nbformat": 4,
 "nbformat_minor": 2
}
